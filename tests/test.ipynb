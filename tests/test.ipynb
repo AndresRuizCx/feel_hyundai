{
 "cells": [
  {
   "cell_type": "code",
   "execution_count": 1,
   "metadata": {},
   "outputs": [],
   "source": [
    "from services.file_processor.file_processor_factory import FileProcessorFactory\n",
    "from services.database_path.data_path import DataPath\n",
    "from services.database_processor.database_QA import DatabaseQA\n",
    "\n",
    "\n"
   ]
  },
  {
   "cell_type": "code",
   "execution_count": 2,
   "metadata": {},
   "outputs": [
    {
     "name": "stdout",
     "output_type": "stream",
     "text": [
      "Working on file: Bluelink_Helpdesk...\n",
      "Working on file: Bluelink_Supervisor_QA...\n",
      "Working on file: Core_HelpDesk...\n",
      "Working on file: Core_QA_v0.1...\n",
      "Working on file: Core_Supervisor_QA...\n",
      "Working on file: Email_QA_v0.2...\n",
      "Working on file: Genesis_Email_QA_v0.1...\n",
      "Working on file: Genesis_QA_v0.2...\n",
      "Working on file: qa_rawdata...\n",
      "Working on file: Safety_QA_v0.1...\n",
      "Working on file: Ticket Team_QA_v0.1...\n",
      "Working on file: Ticket_QA...\n",
      "Data loaded sucessfully\n"
     ]
    }
   ],
   "source": [
    "data = DatabaseQA().get_database()"
   ]
  },
  {
   "cell_type": "code",
   "execution_count": 2,
   "metadata": {},
   "outputs": [
    {
     "data": {
      "text/plain": [
       "'C:\\\\Users\\\\andres.ruiz\\\\Documents\\\\GitHub\\\\feel_hyundai\\\\raw_data\\\\data_survey'"
      ]
     },
     "execution_count": 2,
     "metadata": {},
     "output_type": "execute_result"
    }
   ],
   "source": [
    "DataPath().get_survey()\n",
    "# "
   ]
  },
  {
   "cell_type": "code",
   "execution_count": 3,
   "metadata": {},
   "outputs": [
    {
     "data": {
      "text/plain": [
       "'C:\\\\Users\\\\andres.ruiz\\\\Documents\\\\GitHub\\\\feel_hyundai\\\\raw_data\\\\data_survey\\\\blcc_sat'"
      ]
     },
     "execution_count": 3,
     "metadata": {},
     "output_type": "execute_result"
    }
   ],
   "source": [
    "DataPath()._get_survey_blcc()"
   ]
  }
 ],
 "metadata": {
  "kernelspec": {
   "display_name": "Python 3",
   "language": "python",
   "name": "python3"
  },
  "language_info": {
   "codemirror_mode": {
    "name": "ipython",
    "version": 3
   },
   "file_extension": ".py",
   "mimetype": "text/x-python",
   "name": "python",
   "nbconvert_exporter": "python",
   "pygments_lexer": "ipython3",
   "version": "3.11.5"
  },
  "orig_nbformat": 4
 },
 "nbformat": 4,
 "nbformat_minor": 2
}
